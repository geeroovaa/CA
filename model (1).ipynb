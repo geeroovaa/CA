{
 "cells": [
  {
   "cell_type": "code",
   "execution_count": 307,
   "metadata": {},
   "outputs": [
    {
     "name": "stdout",
     "output_type": "stream",
     "text": [
      "Populating the interactive namespace from numpy and matplotlib\n"
     ]
    }
   ],
   "source": [
    "import pandas as pd\n",
    "import pylab as pl\n",
    "import statsmodels.formula.api as smf\n",
    "%pylab inline"
   ]
  },
  {
   "cell_type": "code",
   "execution_count": 348,
   "metadata": {},
   "outputs": [],
   "source": [
    "dfold=pd.read_csv('seg_taxi.csv')"
   ]
  },
  {
   "cell_type": "code",
   "execution_count": 369,
   "metadata": {},
   "outputs": [],
   "source": [
    "dftraffic=pd.read_csv('https://data.cityofnewyork.us/api/views/p424-amsu/rows.csv')"
   ]
  },
  {
   "cell_type": "code",
   "execution_count": 349,
   "metadata": {},
   "outputs": [
    {
     "data": {
      "text/plain": [
       "995"
      ]
     },
     "execution_count": 349,
     "metadata": {},
     "output_type": "execute_result"
    }
   ],
   "source": [
    "dfold.counts.sum()"
   ]
  },
  {
   "cell_type": "code",
   "execution_count": 365,
   "metadata": {},
   "outputs": [],
   "source": [
    "df=pd.read_csv('seg_taxi_merged.csv')"
   ]
  },
  {
   "cell_type": "code",
   "execution_count": 367,
   "metadata": {},
   "outputs": [],
   "source": [
    "df=df.rename(columns={'0':'counts'})\n",
    "df=df.drop('Unnamed: 0',1)"
   ]
  },
  {
   "cell_type": "code",
   "execution_count": 368,
   "metadata": {},
   "outputs": [
    {
     "data": {
      "text/plain": [
       "3033"
      ]
     },
     "execution_count": 368,
     "metadata": {},
     "output_type": "execute_result"
    }
   ],
   "source": [
    "df.counts.sum()"
   ]
  },
  {
   "cell_type": "code",
   "execution_count": 370,
   "metadata": {},
   "outputs": [],
   "source": [
    "detectors=df.SegmentID.unique()"
   ]
  },
  {
   "cell_type": "code",
   "execution_count": 371,
   "metadata": {},
   "outputs": [],
   "source": [
    "dftraffic['SegmentID']=dftraffic['Segment ID']"
   ]
  },
  {
   "cell_type": "code",
   "execution_count": 372,
   "metadata": {},
   "outputs": [],
   "source": [
    "dfred=dftraffic[dftraffic.SegmentID.isin(detectors)]"
   ]
  },
  {
   "cell_type": "code",
   "execution_count": 373,
   "metadata": {},
   "outputs": [
    {
     "name": "stderr",
     "output_type": "stream",
     "text": [
      "/opt/rh/anaconda/root/envs/PUI2016_Python2/lib/python2.7/site-packages/ipykernel/__main__.py:2: SettingWithCopyWarning: \n",
      "A value is trying to be set on a copy of a slice from a DataFrame.\n",
      "Try using .loc[row_indexer,col_indexer] = value instead\n",
      "\n",
      "See the caveats in the documentation: http://pandas.pydata.org/pandas-docs/stable/indexing.html#indexing-view-versus-copy\n",
      "  from ipykernel import kernelapp as app\n"
     ]
    }
   ],
   "source": [
    "dfred.Date=pd.to_datetime(dfred.Date)\n",
    "dfred['Day']=dfred.Date.dt.day"
   ]
  },
  {
   "cell_type": "code",
   "execution_count": 358,
   "metadata": {},
   "outputs": [],
   "source": [
    "dfred=dfred[(dfred.Date.dt.month==10)&(dfred.Date.dt.day<=7)&(dfred.Date.dt.day>=1)]"
   ]
  },
  {
   "cell_type": "code",
   "execution_count": 374,
   "metadata": {},
   "outputs": [],
   "source": [
    "loop=[]\n",
    "for i in range(0,len(df)):\n",
    "    segment=df.iloc[i,0]\n",
    "    hour=df.iloc[i,1]\n",
    "    day=df.iloc[i,3]\n",
    "    for j in range(0,len(dfred)):\n",
    "        if ((dfred.iloc[j,1]==segment)&(dfred.iloc[j,32]==day)):\n",
    "            counts=dfred.iloc[j,7+hour]\n",
    "            loop.append([segment,day,hour,counts])\n",
    "            break"
   ]
  },
  {
   "cell_type": "code",
   "execution_count": 375,
   "metadata": {},
   "outputs": [],
   "source": [
    "dfloop=pd.DataFrame(loop)"
   ]
  },
  {
   "cell_type": "code",
   "execution_count": 376,
   "metadata": {},
   "outputs": [],
   "source": [
    "dfloop=dfloop.rename(columns={0:'SegmentID',1:'day',2:'hour',3:'loop_count'})"
   ]
  },
  {
   "cell_type": "code",
   "execution_count": 377,
   "metadata": {},
   "outputs": [],
   "source": [
    "dfcounts=df.merge(dfloop,on=['SegmentID','hour','day'])"
   ]
  },
  {
   "cell_type": "code",
   "execution_count": 378,
   "metadata": {},
   "outputs": [],
   "source": [
    "dfcounts=dfcounts.sort_values(['day','hour'])"
   ]
  },
  {
   "cell_type": "code",
   "execution_count": 379,
   "metadata": {},
   "outputs": [],
   "source": [
    "dfcounts=dfcounts.reset_index()\n",
    "dfcounts=dfcounts.drop('index',1)"
   ]
  },
  {
   "cell_type": "code",
   "execution_count": 438,
   "metadata": {},
   "outputs": [
    {
     "data": {
      "text/plain": [
       "26418.0"
      ]
     },
     "execution_count": 438,
     "metadata": {},
     "output_type": "execute_result"
    }
   ],
   "source": [
    "dfcounts[dfcounts.hour==1].loop_count.sum()"
   ]
  },
  {
   "cell_type": "code",
   "execution_count": null,
   "metadata": {},
   "outputs": [],
   "source": [
    "hrcount=[]\n",
    "for i in range(0,24):\n",
    "    hrcount.append(dfcounts[dfcounts.hour==i].counts.sum())"
   ]
  },
  {
   "cell_type": "code",
   "execution_count": 490,
   "metadata": {},
   "outputs": [],
   "source": [
    "loophrcount=[]\n",
    "for i in range(0,24):\n",
    "    loophrcount.append(dfcounts[dfcounts.hour==i].loop_count.sum())"
   ]
  },
  {
   "cell_type": "code",
   "execution_count": 491,
   "metadata": {},
   "outputs": [],
   "source": [
    "dfhrcount=pd.DataFrame(hrcount)\n",
    "dfloophrcount=pd.DataFrame(loophrcount)\n",
    "dfhrcounts=pd.concat([dfhrcount,dfloophrcount],axis=1)"
   ]
  },
  {
   "cell_type": "code",
   "execution_count": 492,
   "metadata": {},
   "outputs": [],
   "source": [
    "dfhrcounts.columns=['taxihr_counts','loophr_counts']"
   ]
  },
  {
   "cell_type": "code",
   "execution_count": 498,
   "metadata": {},
   "outputs": [],
   "source": [
    "hrid=pd.DataFrame(np.identity(24))\n",
    "for i in range(0,24):\n",
    "    hrid=hrid.rename(columns={i:'x'+str(i)})"
   ]
  },
  {
   "cell_type": "code",
   "execution_count": 499,
   "metadata": {},
   "outputs": [
    {
     "data": {
      "text/html": [
       "<div>\n",
       "<table border=\"1\" class=\"dataframe\">\n",
       "  <thead>\n",
       "    <tr style=\"text-align: right;\">\n",
       "      <th></th>\n",
       "      <th>x0</th>\n",
       "      <th>x1</th>\n",
       "      <th>x2</th>\n",
       "      <th>x3</th>\n",
       "      <th>x4</th>\n",
       "      <th>x5</th>\n",
       "      <th>x6</th>\n",
       "      <th>x7</th>\n",
       "      <th>x8</th>\n",
       "      <th>x9</th>\n",
       "      <th>...</th>\n",
       "      <th>x14</th>\n",
       "      <th>x15</th>\n",
       "      <th>x16</th>\n",
       "      <th>x17</th>\n",
       "      <th>x18</th>\n",
       "      <th>x19</th>\n",
       "      <th>x20</th>\n",
       "      <th>x21</th>\n",
       "      <th>x22</th>\n",
       "      <th>x23</th>\n",
       "    </tr>\n",
       "  </thead>\n",
       "  <tbody>\n",
       "    <tr>\n",
       "      <th>0</th>\n",
       "      <td>1.0</td>\n",
       "      <td>0.0</td>\n",
       "      <td>0.0</td>\n",
       "      <td>0.0</td>\n",
       "      <td>0.0</td>\n",
       "      <td>0.0</td>\n",
       "      <td>0.0</td>\n",
       "      <td>0.0</td>\n",
       "      <td>0.0</td>\n",
       "      <td>0.0</td>\n",
       "      <td>...</td>\n",
       "      <td>0.0</td>\n",
       "      <td>0.0</td>\n",
       "      <td>0.0</td>\n",
       "      <td>0.0</td>\n",
       "      <td>0.0</td>\n",
       "      <td>0.0</td>\n",
       "      <td>0.0</td>\n",
       "      <td>0.0</td>\n",
       "      <td>0.0</td>\n",
       "      <td>0.0</td>\n",
       "    </tr>\n",
       "    <tr>\n",
       "      <th>1</th>\n",
       "      <td>0.0</td>\n",
       "      <td>1.0</td>\n",
       "      <td>0.0</td>\n",
       "      <td>0.0</td>\n",
       "      <td>0.0</td>\n",
       "      <td>0.0</td>\n",
       "      <td>0.0</td>\n",
       "      <td>0.0</td>\n",
       "      <td>0.0</td>\n",
       "      <td>0.0</td>\n",
       "      <td>...</td>\n",
       "      <td>0.0</td>\n",
       "      <td>0.0</td>\n",
       "      <td>0.0</td>\n",
       "      <td>0.0</td>\n",
       "      <td>0.0</td>\n",
       "      <td>0.0</td>\n",
       "      <td>0.0</td>\n",
       "      <td>0.0</td>\n",
       "      <td>0.0</td>\n",
       "      <td>0.0</td>\n",
       "    </tr>\n",
       "    <tr>\n",
       "      <th>2</th>\n",
       "      <td>0.0</td>\n",
       "      <td>0.0</td>\n",
       "      <td>1.0</td>\n",
       "      <td>0.0</td>\n",
       "      <td>0.0</td>\n",
       "      <td>0.0</td>\n",
       "      <td>0.0</td>\n",
       "      <td>0.0</td>\n",
       "      <td>0.0</td>\n",
       "      <td>0.0</td>\n",
       "      <td>...</td>\n",
       "      <td>0.0</td>\n",
       "      <td>0.0</td>\n",
       "      <td>0.0</td>\n",
       "      <td>0.0</td>\n",
       "      <td>0.0</td>\n",
       "      <td>0.0</td>\n",
       "      <td>0.0</td>\n",
       "      <td>0.0</td>\n",
       "      <td>0.0</td>\n",
       "      <td>0.0</td>\n",
       "    </tr>\n",
       "    <tr>\n",
       "      <th>3</th>\n",
       "      <td>0.0</td>\n",
       "      <td>0.0</td>\n",
       "      <td>0.0</td>\n",
       "      <td>1.0</td>\n",
       "      <td>0.0</td>\n",
       "      <td>0.0</td>\n",
       "      <td>0.0</td>\n",
       "      <td>0.0</td>\n",
       "      <td>0.0</td>\n",
       "      <td>0.0</td>\n",
       "      <td>...</td>\n",
       "      <td>0.0</td>\n",
       "      <td>0.0</td>\n",
       "      <td>0.0</td>\n",
       "      <td>0.0</td>\n",
       "      <td>0.0</td>\n",
       "      <td>0.0</td>\n",
       "      <td>0.0</td>\n",
       "      <td>0.0</td>\n",
       "      <td>0.0</td>\n",
       "      <td>0.0</td>\n",
       "    </tr>\n",
       "    <tr>\n",
       "      <th>4</th>\n",
       "      <td>0.0</td>\n",
       "      <td>0.0</td>\n",
       "      <td>0.0</td>\n",
       "      <td>0.0</td>\n",
       "      <td>1.0</td>\n",
       "      <td>0.0</td>\n",
       "      <td>0.0</td>\n",
       "      <td>0.0</td>\n",
       "      <td>0.0</td>\n",
       "      <td>0.0</td>\n",
       "      <td>...</td>\n",
       "      <td>0.0</td>\n",
       "      <td>0.0</td>\n",
       "      <td>0.0</td>\n",
       "      <td>0.0</td>\n",
       "      <td>0.0</td>\n",
       "      <td>0.0</td>\n",
       "      <td>0.0</td>\n",
       "      <td>0.0</td>\n",
       "      <td>0.0</td>\n",
       "      <td>0.0</td>\n",
       "    </tr>\n",
       "  </tbody>\n",
       "</table>\n",
       "<p>5 rows × 24 columns</p>\n",
       "</div>"
      ],
      "text/plain": [
       "    x0   x1   x2   x3   x4   x5   x6   x7   x8   x9 ...   x14  x15  x16  x17  \\\n",
       "0  1.0  0.0  0.0  0.0  0.0  0.0  0.0  0.0  0.0  0.0 ...   0.0  0.0  0.0  0.0   \n",
       "1  0.0  1.0  0.0  0.0  0.0  0.0  0.0  0.0  0.0  0.0 ...   0.0  0.0  0.0  0.0   \n",
       "2  0.0  0.0  1.0  0.0  0.0  0.0  0.0  0.0  0.0  0.0 ...   0.0  0.0  0.0  0.0   \n",
       "3  0.0  0.0  0.0  1.0  0.0  0.0  0.0  0.0  0.0  0.0 ...   0.0  0.0  0.0  0.0   \n",
       "4  0.0  0.0  0.0  0.0  1.0  0.0  0.0  0.0  0.0  0.0 ...   0.0  0.0  0.0  0.0   \n",
       "\n",
       "   x18  x19  x20  x21  x22  x23  \n",
       "0  0.0  0.0  0.0  0.0  0.0  0.0  \n",
       "1  0.0  0.0  0.0  0.0  0.0  0.0  \n",
       "2  0.0  0.0  0.0  0.0  0.0  0.0  \n",
       "3  0.0  0.0  0.0  0.0  0.0  0.0  \n",
       "4  0.0  0.0  0.0  0.0  0.0  0.0  \n",
       "\n",
       "[5 rows x 24 columns]"
      ]
     },
     "execution_count": 499,
     "metadata": {},
     "output_type": "execute_result"
    }
   ],
   "source": [
    "hrid.head()"
   ]
  },
  {
   "cell_type": "code",
   "execution_count": 504,
   "metadata": {},
   "outputs": [],
   "source": [
    "dfhrcounts=pd.concat([dfhrcounts,hrid],axis=1)"
   ]
  },
  {
   "cell_type": "code",
   "execution_count": 587,
   "metadata": {},
   "outputs": [
    {
     "data": {
      "image/png": "[encoded data removed]",
      "text/plain": [
       "<matplotlib.figure.Figure at 0x7fd9f5353510>"
      ]
     },
     "metadata": {},
     "output_type": "display_data"
    }
   ],
   "source": [
    "pl.plot(dfhrcounts.taxihr_counts,'b',alpha=0.7)\n",
    "pl.plot(dfhrcounts.loophr_counts/500,'k',alpha=0.5)\n",
    "pl.xticks(range(0,24));\n",
    "pl.xlabel('Hour')\n",
    "pl.ylabel('Counts')\n",
    "pl.legend(['Taxi counts','Loop detector counts divided by 500']);"
   ]
  },
  {
   "cell_type": "code",
   "execution_count": 457,
   "metadata": {},
   "outputs": [],
   "source": [
    "#figsize(14,8)\n",
    "#pl.plot(dfcounts.counts)\n",
    "#pl.plot(dfcounts.loop_count/500)\n",
    "#pl.xlim(0,400)"
   ]
  },
  {
   "cell_type": "code",
   "execution_count": 458,
   "metadata": {},
   "outputs": [],
   "source": [
    "workday=[]\n",
    "hourflag=np.zeros([len(dfcounts),24])\n",
    "hours=range(0,24)\n",
    "days=range(1,8)\n",
    "for i in range(0,len(dfcounts)):\n",
    "    if (dfcounts.iloc[i,3]<=5):\n",
    "        flag=1\n",
    "    else: \n",
    "        flag=0\n",
    "    workday.append(flag)\n",
    "    for j in range(0,len(hours)):\n",
    "        if dfcounts.iloc[i,1]==hours[j]:\n",
    "            hourflag[i,j]=1"
   ]
  },
  {
   "cell_type": "code",
   "execution_count": 459,
   "metadata": {},
   "outputs": [],
   "source": [
    "dfcounts=pd.concat([dfcounts,pd.DataFrame(hourflag)],axis=1)"
   ]
  },
  {
   "cell_type": "code",
   "execution_count": 460,
   "metadata": {},
   "outputs": [],
   "source": [
    "dfcounts['workday']=workday"
   ]
  },
  {
   "cell_type": "code",
   "execution_count": 461,
   "metadata": {},
   "outputs": [],
   "source": [
    "for i in range(0,24):\n",
    "    dfcounts=dfcounts.rename(columns={i:'x'+str(i)})"
   ]
  },
  {
   "cell_type": "code",
   "execution_count": null,
   "metadata": {},
   "outputs": [],
   "source": [
    "#x0+x1+x2+x3+x4+x5+x6+x7+x8+x9+x10+x11+x12+x13+x14+x15+x16+x17+x18+x19+x20"
   ]
  },
  {
   "cell_type": "code",
   "execution_count": 597,
   "metadata": {},
   "outputs": [],
   "source": [
    "lmhr=smf.ols('loophr_counts ~ taxihr_counts-1', dfhrcounts).fit()"
   ]
  },
  {
   "cell_type": "code",
   "execution_count": 598,
   "metadata": {},
   "outputs": [
    {
     "data": {
      "text/html": [
       "<table class=\"simpletable\">\n",
       "<caption>OLS Regression Results</caption>\n",
       "<tr>\n",
       "  <th>Dep. Variable:</th>      <td>loophr_counts</td>  <th>  R-squared:         </th> <td>   0.980</td>\n",
       "</tr>\n",
       "<tr>\n",
       "  <th>Model:</th>                   <td>OLS</td>       <th>  Adj. R-squared:    </th> <td>   0.979</td>\n",
       "</tr>\n",
       "<tr>\n",
       "  <th>Method:</th>             <td>Least Squares</td>  <th>  F-statistic:       </th> <td>   1117.</td>\n",
       "</tr>\n",
       "<tr>\n",
       "  <th>Date:</th>             <td>Fri, 01 Dec 2017</td> <th>  Prob (F-statistic):</th> <td>5.32e-21</td>\n",
       "</tr>\n",
       "<tr>\n",
       "  <th>Time:</th>                 <td>13:38:38</td>     <th>  Log-Likelihood:    </th> <td> -248.67</td>\n",
       "</tr>\n",
       "<tr>\n",
       "  <th>No. Observations:</th>      <td>    24</td>      <th>  AIC:               </th> <td>   499.3</td>\n",
       "</tr>\n",
       "<tr>\n",
       "  <th>Df Residuals:</th>          <td>    23</td>      <th>  BIC:               </th> <td>   500.5</td>\n",
       "</tr>\n",
       "<tr>\n",
       "  <th>Df Model:</th>              <td>     1</td>      <th>                     </th>     <td> </td>   \n",
       "</tr>\n",
       "<tr>\n",
       "  <th>Covariance Type:</th>      <td>nonrobust</td>    <th>                     </th>     <td> </td>   \n",
       "</tr>\n",
       "</table>\n",
       "<table class=\"simpletable\">\n",
       "<tr>\n",
       "        <td></td>           <th>coef</th>     <th>std err</th>      <th>t</th>      <th>P>|t|</th> <th>[95.0% Conf. Int.]</th> \n",
       "</tr>\n",
       "<tr>\n",
       "  <th>taxihr_counts</th> <td>  384.1464</td> <td>   11.494</td> <td>   33.422</td> <td> 0.000</td> <td>  360.370   407.923</td>\n",
       "</tr>\n",
       "</table>\n",
       "<table class=\"simpletable\">\n",
       "<tr>\n",
       "  <th>Omnibus:</th>       <td> 0.504</td> <th>  Durbin-Watson:     </th> <td>   1.332</td>\n",
       "</tr>\n",
       "<tr>\n",
       "  <th>Prob(Omnibus):</th> <td> 0.777</td> <th>  Jarque-Bera (JB):  </th> <td>   0.506</td>\n",
       "</tr>\n",
       "<tr>\n",
       "  <th>Skew:</th>          <td> 0.298</td> <th>  Prob(JB):          </th> <td>   0.776</td>\n",
       "</tr>\n",
       "<tr>\n",
       "  <th>Kurtosis:</th>      <td> 2.612</td> <th>  Cond. No.          </th> <td>    1.00</td>\n",
       "</tr>\n",
       "</table>"
      ],
      "text/plain": [
       "<class 'statsmodels.iolib.summary.Summary'>\n",
       "\"\"\"\n",
       "                            OLS Regression Results                            \n",
       "==============================================================================\n",
       "Dep. Variable:          loophr_counts   R-squared:                       0.980\n",
       "Model:                            OLS   Adj. R-squared:                  0.979\n",
       "Method:                 Least Squares   F-statistic:                     1117.\n",
       "Date:                Fri, 01 Dec 2017   Prob (F-statistic):           5.32e-21\n",
       "Time:                        13:38:38   Log-Likelihood:                -248.67\n",
       "No. Observations:                  24   AIC:                             499.3\n",
       "Df Residuals:                      23   BIC:                             500.5\n",
       "Df Model:                           1                                         \n",
       "Covariance Type:            nonrobust                                         \n",
       "=================================================================================\n",
       "                    coef    std err          t      P>|t|      [95.0% Conf. Int.]\n",
       "---------------------------------------------------------------------------------\n",
       "taxihr_counts   384.1464     11.494     33.422      0.000       360.370   407.923\n",
       "==============================================================================\n",
       "Omnibus:                        0.504   Durbin-Watson:                   1.332\n",
       "Prob(Omnibus):                  0.777   Jarque-Bera (JB):                0.506\n",
       "Skew:                           0.298   Prob(JB):                        0.776\n",
       "Kurtosis:                       2.612   Cond. No.                         1.00\n",
       "==============================================================================\n",
       "\n",
       "Warnings:\n",
       "[1] Standard Errors assume that the covariance matrix of the errors is correctly specified.\n",
       "\"\"\""
      ]
     },
     "execution_count": 598,
     "metadata": {},
     "output_type": "execute_result"
    }
   ],
   "source": [
    "lmhr.summary()"
   ]
  },
  {
   "cell_type": "code",
   "execution_count": 596,
   "metadata": {},
   "outputs": [
    {
     "data": {
      "image/png": "[encoded data removed]",
      "text/plain": [
       "<matplotlib.figure.Figure at 0x7fd9f6356a10>"
      ]
     },
     "metadata": {},
     "output_type": "display_data"
    }
   ],
   "source": [
    "pl.plot(lmhr.predict(),'--',color='b',alpha=0.7)\n",
    "pl.plot(dfhrcounts.loophr_counts,'k',alpha=0.5)\n",
    "pl.xticks(range(0,24));\n",
    "pl.xlabel('Hour')\n",
    "pl.ylabel('Counts')\n",
    "pl.legend(['Predicted traffic counts','Loop detector counts']);"
   ]
  },
  {
   "cell_type": "code",
   "execution_count": null,
   "metadata": {},
   "outputs": [],
   "source": [
    "#x0+x1+x2+x3+x4+x5+x6+x7+x8+x9+x10+x11+x12+x13+x14+x15+x16+x17+x18+x19+x20+x21+x22+x23"
   ]
  },
  {
   "cell_type": "code",
   "execution_count": 507,
   "metadata": {},
   "outputs": [],
   "source": [
    "#Y=dfcounts.loop_count\n",
    "#X=dfcounts.counts\n",
    "lm=smf.ols('loop_count ~ counts+workday+x0+x1+x2+x3+x4+x5+x6+x7+x8+x9+x10+x11+x12+x13+x14+x15+x16+x17+x18+x19+x20+x21+x22+x23', dfcounts).fit()"
   ]
  },
  {
   "cell_type": "code",
   "execution_count": 468,
   "metadata": {},
   "outputs": [
    {
     "data": {
      "text/html": [
       "<table class=\"simpletable\">\n",
       "<caption>OLS Regression Results</caption>\n",
       "<tr>\n",
       "  <th>Dep. Variable:</th>       <td>loop_count</td>    <th>  R-squared:         </th> <td>   0.165</td> \n",
       "</tr>\n",
       "<tr>\n",
       "  <th>Model:</th>                   <td>OLS</td>       <th>  Adj. R-squared:    </th> <td>   0.148</td> \n",
       "</tr>\n",
       "<tr>\n",
       "  <th>Method:</th>             <td>Least Squares</td>  <th>  F-statistic:       </th> <td>   9.388</td> \n",
       "</tr>\n",
       "<tr>\n",
       "  <th>Date:</th>             <td>Fri, 01 Dec 2017</td> <th>  Prob (F-statistic):</th> <td>2.27e-32</td> \n",
       "</tr>\n",
       "<tr>\n",
       "  <th>Time:</th>                 <td>11:27:48</td>     <th>  Log-Likelihood:    </th> <td> -9384.7</td> \n",
       "</tr>\n",
       "<tr>\n",
       "  <th>No. Observations:</th>      <td>  1211</td>      <th>  AIC:               </th> <td>1.882e+04</td>\n",
       "</tr>\n",
       "<tr>\n",
       "  <th>Df Residuals:</th>          <td>  1185</td>      <th>  BIC:               </th> <td>1.895e+04</td>\n",
       "</tr>\n",
       "<tr>\n",
       "  <th>Df Model:</th>              <td>    25</td>      <th>                     </th>     <td> </td>    \n",
       "</tr>\n",
       "<tr>\n",
       "  <th>Covariance Type:</th>      <td>nonrobust</td>    <th>                     </th>     <td> </td>    \n",
       "</tr>\n",
       "</table>\n",
       "<table class=\"simpletable\">\n",
       "<tr>\n",
       "      <td></td>         <th>coef</th>     <th>std err</th>      <th>t</th>      <th>P>|t|</th> <th>[95.0% Conf. Int.]</th> \n",
       "</tr>\n",
       "<tr>\n",
       "  <th>Intercept</th> <td>  978.0520</td> <td>   33.081</td> <td>   29.565</td> <td> 0.000</td> <td>  913.148  1042.956</td>\n",
       "</tr>\n",
       "<tr>\n",
       "  <th>counts</th>    <td>  -77.9170</td> <td>    7.147</td> <td>  -10.903</td> <td> 0.000</td> <td>  -91.938   -63.896</td>\n",
       "</tr>\n",
       "<tr>\n",
       "  <th>workday</th>   <td>    4.7510</td> <td>   37.109</td> <td>    0.128</td> <td> 0.898</td> <td>  -68.056    77.558</td>\n",
       "</tr>\n",
       "<tr>\n",
       "  <th>x0[0]</th>     <td>  128.4667</td> <td>   36.551</td> <td>    3.515</td> <td> 0.000</td> <td>   56.755   200.178</td>\n",
       "</tr>\n",
       "<tr>\n",
       "  <th>x0[1]</th>     <td>  128.4667</td> <td>   36.551</td> <td>    3.515</td> <td> 0.000</td> <td>   56.755   200.178</td>\n",
       "</tr>\n",
       "<tr>\n",
       "  <th>x1[0]</th>     <td>   -6.0132</td> <td>   48.370</td> <td>   -0.124</td> <td> 0.901</td> <td> -100.913    88.887</td>\n",
       "</tr>\n",
       "<tr>\n",
       "  <th>x1[1]</th>     <td>   -6.0132</td> <td>   48.370</td> <td>   -0.124</td> <td> 0.901</td> <td> -100.913    88.887</td>\n",
       "</tr>\n",
       "<tr>\n",
       "  <th>x2[0]</th>     <td> -111.3137</td> <td>   58.924</td> <td>   -1.889</td> <td> 0.059</td> <td> -226.920     4.293</td>\n",
       "</tr>\n",
       "<tr>\n",
       "  <th>x2[1]</th>     <td> -111.3137</td> <td>   58.924</td> <td>   -1.889</td> <td> 0.059</td> <td> -226.920     4.293</td>\n",
       "</tr>\n",
       "<tr>\n",
       "  <th>x3[0]</th>     <td> -175.3444</td> <td>   66.897</td> <td>   -2.621</td> <td> 0.009</td> <td> -306.593   -44.096</td>\n",
       "</tr>\n",
       "<tr>\n",
       "  <th>x3[1]</th>     <td> -175.3444</td> <td>   66.897</td> <td>   -2.621</td> <td> 0.009</td> <td> -306.593   -44.096</td>\n",
       "</tr>\n",
       "<tr>\n",
       "  <th>x4[0]</th>     <td> -242.0592</td> <td>   61.740</td> <td>   -3.921</td> <td> 0.000</td> <td> -363.192  -120.926</td>\n",
       "</tr>\n",
       "<tr>\n",
       "  <th>x4[1]</th>     <td> -242.0592</td> <td>   61.740</td> <td>   -3.921</td> <td> 0.000</td> <td> -363.192  -120.926</td>\n",
       "</tr>\n",
       "<tr>\n",
       "  <th>x5[0]</th>     <td> -230.4479</td> <td>   96.841</td> <td>   -2.380</td> <td> 0.017</td> <td> -420.447   -40.449</td>\n",
       "</tr>\n",
       "<tr>\n",
       "  <th>x5[1]</th>     <td> -230.4479</td> <td>   96.841</td> <td>   -2.380</td> <td> 0.017</td> <td> -420.447   -40.449</td>\n",
       "</tr>\n",
       "<tr>\n",
       "  <th>x6[0]</th>     <td> -125.7659</td> <td>   51.410</td> <td>   -2.446</td> <td> 0.015</td> <td> -226.630   -24.902</td>\n",
       "</tr>\n",
       "<tr>\n",
       "  <th>x6[1]</th>     <td> -125.7659</td> <td>   51.410</td> <td>   -2.446</td> <td> 0.015</td> <td> -226.630   -24.902</td>\n",
       "</tr>\n",
       "<tr>\n",
       "  <th>x7[0]</th>     <td>  179.8994</td> <td>   41.228</td> <td>    4.364</td> <td> 0.000</td> <td>   99.012   260.787</td>\n",
       "</tr>\n",
       "<tr>\n",
       "  <th>x7[1]</th>     <td>  179.8994</td> <td>   41.228</td> <td>    4.364</td> <td> 0.000</td> <td>   99.012   260.787</td>\n",
       "</tr>\n",
       "<tr>\n",
       "  <th>x8[0]</th>     <td>  183.0051</td> <td>   34.836</td> <td>    5.253</td> <td> 0.000</td> <td>  114.658   251.352</td>\n",
       "</tr>\n",
       "<tr>\n",
       "  <th>x8[1]</th>     <td>  183.0051</td> <td>   34.836</td> <td>    5.253</td> <td> 0.000</td> <td>  114.658   251.352</td>\n",
       "</tr>\n",
       "<tr>\n",
       "  <th>x9[0]</th>     <td>   79.5941</td> <td>   36.732</td> <td>    2.167</td> <td> 0.030</td> <td>    7.527   151.661</td>\n",
       "</tr>\n",
       "<tr>\n",
       "  <th>x9[1]</th>     <td>   79.5941</td> <td>   36.732</td> <td>    2.167</td> <td> 0.030</td> <td>    7.527   151.661</td>\n",
       "</tr>\n",
       "<tr>\n",
       "  <th>x10[0]</th>    <td>   25.8266</td> <td>   38.841</td> <td>    0.665</td> <td> 0.506</td> <td>  -50.379   102.032</td>\n",
       "</tr>\n",
       "<tr>\n",
       "  <th>x10[1]</th>    <td>   25.8266</td> <td>   38.841</td> <td>    0.665</td> <td> 0.506</td> <td>  -50.379   102.032</td>\n",
       "</tr>\n",
       "<tr>\n",
       "  <th>x11[0]</th>    <td>  135.7377</td> <td>   38.931</td> <td>    3.487</td> <td> 0.001</td> <td>   59.355   212.120</td>\n",
       "</tr>\n",
       "<tr>\n",
       "  <th>x11[1]</th>    <td>  135.7377</td> <td>   38.931</td> <td>    3.487</td> <td> 0.001</td> <td>   59.355   212.120</td>\n",
       "</tr>\n",
       "<tr>\n",
       "  <th>x12[0]</th>    <td>   73.5272</td> <td>   35.823</td> <td>    2.053</td> <td> 0.040</td> <td>    3.244   143.811</td>\n",
       "</tr>\n",
       "<tr>\n",
       "  <th>x12[1]</th>    <td>   73.5272</td> <td>   35.823</td> <td>    2.053</td> <td> 0.040</td> <td>    3.244   143.811</td>\n",
       "</tr>\n",
       "<tr>\n",
       "  <th>x13[0]</th>    <td>  104.9465</td> <td>   35.761</td> <td>    2.935</td> <td> 0.003</td> <td>   34.784   175.109</td>\n",
       "</tr>\n",
       "<tr>\n",
       "  <th>x13[1]</th>    <td>  104.9465</td> <td>   35.761</td> <td>    2.935</td> <td> 0.003</td> <td>   34.784   175.109</td>\n",
       "</tr>\n",
       "<tr>\n",
       "  <th>x14[0]</th>    <td>   62.5450</td> <td>   37.178</td> <td>    1.682</td> <td> 0.093</td> <td>  -10.398   135.488</td>\n",
       "</tr>\n",
       "<tr>\n",
       "  <th>x14[1]</th>    <td>   62.5450</td> <td>   37.178</td> <td>    1.682</td> <td> 0.093</td> <td>  -10.398   135.488</td>\n",
       "</tr>\n",
       "<tr>\n",
       "  <th>x15[0]</th>    <td>   95.6925</td> <td>   38.153</td> <td>    2.508</td> <td> 0.012</td> <td>   20.837   170.548</td>\n",
       "</tr>\n",
       "<tr>\n",
       "  <th>x15[1]</th>    <td>   95.6925</td> <td>   38.153</td> <td>    2.508</td> <td> 0.012</td> <td>   20.837   170.548</td>\n",
       "</tr>\n",
       "<tr>\n",
       "  <th>x16[0]</th>    <td>  -11.6822</td> <td>   42.238</td> <td>   -0.277</td> <td> 0.782</td> <td>  -94.552    71.188</td>\n",
       "</tr>\n",
       "<tr>\n",
       "  <th>x16[1]</th>    <td>  -11.6822</td> <td>   42.238</td> <td>   -0.277</td> <td> 0.782</td> <td>  -94.552    71.188</td>\n",
       "</tr>\n",
       "<tr>\n",
       "  <th>x17[0]</th>    <td>   80.2691</td> <td>   35.565</td> <td>    2.257</td> <td> 0.024</td> <td>   10.493   150.046</td>\n",
       "</tr>\n",
       "<tr>\n",
       "  <th>x17[1]</th>    <td>   80.2691</td> <td>   35.565</td> <td>    2.257</td> <td> 0.024</td> <td>   10.493   150.046</td>\n",
       "</tr>\n",
       "<tr>\n",
       "  <th>x18[0]</th>    <td>  172.7635</td> <td>   33.405</td> <td>    5.172</td> <td> 0.000</td> <td>  107.223   238.304</td>\n",
       "</tr>\n",
       "<tr>\n",
       "  <th>x18[1]</th>    <td>  172.7635</td> <td>   33.405</td> <td>    5.172</td> <td> 0.000</td> <td>  107.223   238.304</td>\n",
       "</tr>\n",
       "<tr>\n",
       "  <th>x19[0]</th>    <td>  223.0597</td> <td>   32.428</td> <td>    6.879</td> <td> 0.000</td> <td>  159.436   286.683</td>\n",
       "</tr>\n",
       "<tr>\n",
       "  <th>x19[1]</th>    <td>  223.0597</td> <td>   32.428</td> <td>    6.879</td> <td> 0.000</td> <td>  159.436   286.683</td>\n",
       "</tr>\n",
       "<tr>\n",
       "  <th>x20[0]</th>    <td>   98.2793</td> <td>   33.651</td> <td>    2.921</td> <td> 0.004</td> <td>   32.257   164.301</td>\n",
       "</tr>\n",
       "<tr>\n",
       "  <th>x20[1]</th>    <td>   98.2793</td> <td>   33.651</td> <td>    2.921</td> <td> 0.004</td> <td>   32.257   164.301</td>\n",
       "</tr>\n",
       "<tr>\n",
       "  <th>x21[0]</th>    <td>  100.9547</td> <td>   33.845</td> <td>    2.983</td> <td> 0.003</td> <td>   34.551   167.358</td>\n",
       "</tr>\n",
       "<tr>\n",
       "  <th>x21[1]</th>    <td>  100.9547</td> <td>   33.845</td> <td>    2.983</td> <td> 0.003</td> <td>   34.551   167.358</td>\n",
       "</tr>\n",
       "<tr>\n",
       "  <th>x22[0]</th>    <td>  111.3242</td> <td>   35.834</td> <td>    3.107</td> <td> 0.002</td> <td>   41.018   181.630</td>\n",
       "</tr>\n",
       "<tr>\n",
       "  <th>x22[1]</th>    <td>  111.3242</td> <td>   35.834</td> <td>    3.107</td> <td> 0.002</td> <td>   41.018   181.630</td>\n",
       "</tr>\n",
       "<tr>\n",
       "  <th>x23[0]</th>    <td>   24.7874</td> <td>   39.572</td> <td>    0.626</td> <td> 0.531</td> <td>  -52.852   102.427</td>\n",
       "</tr>\n",
       "<tr>\n",
       "  <th>x23[1]</th>    <td>   24.7874</td> <td>   39.572</td> <td>    0.626</td> <td> 0.531</td> <td>  -52.852   102.427</td>\n",
       "</tr>\n",
       "</table>\n",
       "<table class=\"simpletable\">\n",
       "<tr>\n",
       "  <th>Omnibus:</th>       <td>559.307</td> <th>  Durbin-Watson:     </th> <td>   1.804</td>\n",
       "</tr>\n",
       "<tr>\n",
       "  <th>Prob(Omnibus):</th> <td> 0.000</td>  <th>  Jarque-Bera (JB):  </th> <td>4773.846</td>\n",
       "</tr>\n",
       "<tr>\n",
       "  <th>Skew:</th>          <td> 1.936</td>  <th>  Prob(JB):          </th> <td>    0.00</td>\n",
       "</tr>\n",
       "<tr>\n",
       "  <th>Kurtosis:</th>      <td>11.923</td>  <th>  Cond. No.          </th> <td>1.35e+16</td>\n",
       "</tr>\n",
       "</table>"
      ],
      "text/plain": [
       "<class 'statsmodels.iolib.summary.Summary'>\n",
       "\"\"\"\n",
       "                            OLS Regression Results                            \n",
       "==============================================================================\n",
       "Dep. Variable:             loop_count   R-squared:                       0.165\n",
       "Model:                            OLS   Adj. R-squared:                  0.148\n",
       "Method:                 Least Squares   F-statistic:                     9.388\n",
       "Date:                Fri, 01 Dec 2017   Prob (F-statistic):           2.27e-32\n",
       "Time:                        11:27:48   Log-Likelihood:                -9384.7\n",
       "No. Observations:                1211   AIC:                         1.882e+04\n",
       "Df Residuals:                    1185   BIC:                         1.895e+04\n",
       "Df Model:                          25                                         \n",
       "Covariance Type:            nonrobust                                         \n",
       "==============================================================================\n",
       "                 coef    std err          t      P>|t|      [95.0% Conf. Int.]\n",
       "------------------------------------------------------------------------------\n",
       "Intercept    978.0520     33.081     29.565      0.000       913.148  1042.956\n",
       "counts       -77.9170      7.147    -10.903      0.000       -91.938   -63.896\n",
       "workday        4.7510     37.109      0.128      0.898       -68.056    77.558\n",
       "x0[0]        128.4667     36.551      3.515      0.000        56.755   200.178\n",
       "x0[1]        128.4667     36.551      3.515      0.000        56.755   200.178\n",
       "x1[0]         -6.0132     48.370     -0.124      0.901      -100.913    88.887\n",
       "x1[1]         -6.0132     48.370     -0.124      0.901      -100.913    88.887\n",
       "x2[0]       -111.3137     58.924     -1.889      0.059      -226.920     4.293\n",
       "x2[1]       -111.3137     58.924     -1.889      0.059      -226.920     4.293\n",
       "x3[0]       -175.3444     66.897     -2.621      0.009      -306.593   -44.096\n",
       "x3[1]       -175.3444     66.897     -2.621      0.009      -306.593   -44.096\n",
       "x4[0]       -242.0592     61.740     -3.921      0.000      -363.192  -120.926\n",
       "x4[1]       -242.0592     61.740     -3.921      0.000      -363.192  -120.926\n",
       "x5[0]       -230.4479     96.841     -2.380      0.017      -420.447   -40.449\n",
       "x5[1]       -230.4479     96.841     -2.380      0.017      -420.447   -40.449\n",
       "x6[0]       -125.7659     51.410     -2.446      0.015      -226.630   -24.902\n",
       "x6[1]       -125.7659     51.410     -2.446      0.015      -226.630   -24.902\n",
       "x7[0]        179.8994     41.228      4.364      0.000        99.012   260.787\n",
       "x7[1]        179.8994     41.228      4.364      0.000        99.012   260.787\n",
       "x8[0]        183.0051     34.836      5.253      0.000       114.658   251.352\n",
       "x8[1]        183.0051     34.836      5.253      0.000       114.658   251.352\n",
       "x9[0]         79.5941     36.732      2.167      0.030         7.527   151.661\n",
       "x9[1]         79.5941     36.732      2.167      0.030         7.527   151.661\n",
       "x10[0]        25.8266     38.841      0.665      0.506       -50.379   102.032\n",
       "x10[1]        25.8266     38.841      0.665      0.506       -50.379   102.032\n",
       "x11[0]       135.7377     38.931      3.487      0.001        59.355   212.120\n",
       "x11[1]       135.7377     38.931      3.487      0.001        59.355   212.120\n",
       "x12[0]        73.5272     35.823      2.053      0.040         3.244   143.811\n",
       "x12[1]        73.5272     35.823      2.053      0.040         3.244   143.811\n",
       "x13[0]       104.9465     35.761      2.935      0.003        34.784   175.109\n",
       "x13[1]       104.9465     35.761      2.935      0.003        34.784   175.109\n",
       "x14[0]        62.5450     37.178      1.682      0.093       -10.398   135.488\n",
       "x14[1]        62.5450     37.178      1.682      0.093       -10.398   135.488\n",
       "x15[0]        95.6925     38.153      2.508      0.012        20.837   170.548\n",
       "x15[1]        95.6925     38.153      2.508      0.012        20.837   170.548\n",
       "x16[0]       -11.6822     42.238     -0.277      0.782       -94.552    71.188\n",
       "x16[1]       -11.6822     42.238     -0.277      0.782       -94.552    71.188\n",
       "x17[0]        80.2691     35.565      2.257      0.024        10.493   150.046\n",
       "x17[1]        80.2691     35.565      2.257      0.024        10.493   150.046\n",
       "x18[0]       172.7635     33.405      5.172      0.000       107.223   238.304\n",
       "x18[1]       172.7635     33.405      5.172      0.000       107.223   238.304\n",
       "x19[0]       223.0597     32.428      6.879      0.000       159.436   286.683\n",
       "x19[1]       223.0597     32.428      6.879      0.000       159.436   286.683\n",
       "x20[0]        98.2793     33.651      2.921      0.004        32.257   164.301\n",
       "x20[1]        98.2793     33.651      2.921      0.004        32.257   164.301\n",
       "x21[0]       100.9547     33.845      2.983      0.003        34.551   167.358\n",
       "x21[1]       100.9547     33.845      2.983      0.003        34.551   167.358\n",
       "x22[0]       111.3242     35.834      3.107      0.002        41.018   181.630\n",
       "x22[1]       111.3242     35.834      3.107      0.002        41.018   181.630\n",
       "x23[0]        24.7874     39.572      0.626      0.531       -52.852   102.427\n",
       "x23[1]        24.7874     39.572      0.626      0.531       -52.852   102.427\n",
       "==============================================================================\n",
       "Omnibus:                      559.307   Durbin-Watson:                   1.804\n",
       "Prob(Omnibus):                  0.000   Jarque-Bera (JB):             4773.846\n",
       "Skew:                           1.936   Prob(JB):                         0.00\n",
       "Kurtosis:                      11.923   Cond. No.                     1.35e+16\n",
       "==============================================================================\n",
       "\n",
       "Warnings:\n",
       "[1] Standard Errors assume that the covariance matrix of the errors is correctly specified.\n",
       "[2] The smallest eigenvalue is 8.29e-29. This might indicate that there are\n",
       "strong multicollinearity problems or that the design matrix is singular.\n",
       "\"\"\""
      ]
     },
     "execution_count": 468,
     "metadata": {},
     "output_type": "execute_result"
    }
   ],
   "source": [
    "lm.summary()"
   ]
  },
  {
   "cell_type": "code",
   "execution_count": 475,
   "metadata": {},
   "outputs": [
    {
     "data": {
      "text/plain": [
       "26418.0"
      ]
     },
     "execution_count": 475,
     "metadata": {},
     "output_type": "execute_result"
    }
   ],
   "source": []
  },
  {
   "cell_type": "code",
   "execution_count": 473,
   "metadata": {},
   "outputs": [
    {
     "data": {
      "text/plain": [
       "1211"
      ]
     },
     "execution_count": 473,
     "metadata": {},
     "output_type": "execute_result"
    }
   ],
   "source": [
    "len(dfcounts)"
   ]
  },
  {
   "cell_type": "code",
   "execution_count": 464,
   "metadata": {},
   "outputs": [
    {
     "data": {
      "text/plain": [
       "<matplotlib.legend.Legend at 0x7fd9f66b0ad0>"
      ]
     },
     "execution_count": 464,
     "metadata": {},
     "output_type": "execute_result"
    },
    {
     "data": {
      "image/png": "[encoded data removed]",
      "text/plain": [
       "<matplotlib.figure.Figure at 0x7fd9f65fac10>"
      ]
     },
     "metadata": {},
     "output_type": "display_data"
    }
   ],
   "source": [
    "pl.plot(loophrcount)\n",
    "pl.plot(lm.predict())\n",
    "pl.xticks(range(0,24));\n",
    "pl.xlabel('Hour')\n",
    "pl.ylabel('Counts')\n",
    "pl.legend(['Taxi counts','Loop detector counts divided by 500'])"
   ]
  },
  {
   "cell_type": "code",
   "execution_count": 389,
   "metadata": {},
   "outputs": [
    {
     "data": {
      "text/plain": [
       "(0, 100)"
      ]
     },
     "execution_count": 389,
     "metadata": {},
     "output_type": "execute_result"
    },
    {
     "data": {
      "image/png": "[encoded data removed]",
      "text/plain": [
       "<matplotlib.figure.Figure at 0x7fda66d2ff50>"
      ]
     },
     "metadata": {},
     "output_type": "display_data"
    }
   ],
   "source": [
    "figsize(14,8)\n",
    "pl.plot(lm.predict(),'--',color='b',alpha=.5)\n",
    "pl.plot(dfcounts.loop_count,color='orange',alpha=.5)\n",
    "pl.xlim(0,100)"
   ]
  },
  {
   "cell_type": "code",
   "execution_count": 306,
   "metadata": {},
   "outputs": [
    {
     "data": {
      "text/html": [
       "<div>\n",
       "<table border=\"1\" class=\"dataframe\">\n",
       "  <thead>\n",
       "    <tr style=\"text-align: right;\">\n",
       "      <th></th>\n",
       "      <th></th>\n",
       "      <th>SegmentID</th>\n",
       "      <th>loop_count</th>\n",
       "    </tr>\n",
       "    <tr>\n",
       "      <th>day</th>\n",
       "      <th>hour</th>\n",
       "      <th></th>\n",
       "      <th></th>\n",
       "    </tr>\n",
       "  </thead>\n",
       "  <tbody>\n",
       "    <tr>\n",
       "      <th rowspan=\"17\" valign=\"top\">1</th>\n",
       "      <th>2</th>\n",
       "      <td>32807</td>\n",
       "      <td>207.0</td>\n",
       "    </tr>\n",
       "    <tr>\n",
       "      <th>6</th>\n",
       "      <td>192510</td>\n",
       "      <td>1492.0</td>\n",
       "    </tr>\n",
       "    <tr>\n",
       "      <th>8</th>\n",
       "      <td>106192</td>\n",
       "      <td>3367.0</td>\n",
       "    </tr>\n",
       "    <tr>\n",
       "      <th>9</th>\n",
       "      <td>167825</td>\n",
       "      <td>5473.0</td>\n",
       "    </tr>\n",
       "    <tr>\n",
       "      <th>10</th>\n",
       "      <td>67904</td>\n",
       "      <td>884.0</td>\n",
       "    </tr>\n",
       "    <tr>\n",
       "      <th>11</th>\n",
       "      <td>243552</td>\n",
       "      <td>7142.0</td>\n",
       "    </tr>\n",
       "    <tr>\n",
       "      <th>12</th>\n",
       "      <td>68049</td>\n",
       "      <td>752.0</td>\n",
       "    </tr>\n",
       "    <tr>\n",
       "      <th>13</th>\n",
       "      <td>201706</td>\n",
       "      <td>6537.0</td>\n",
       "    </tr>\n",
       "    <tr>\n",
       "      <th>14</th>\n",
       "      <td>68197</td>\n",
       "      <td>1031.0</td>\n",
       "    </tr>\n",
       "    <tr>\n",
       "      <th>15</th>\n",
       "      <td>158858</td>\n",
       "      <td>904.0</td>\n",
       "    </tr>\n",
       "    <tr>\n",
       "      <th>16</th>\n",
       "      <td>170358</td>\n",
       "      <td>2649.0</td>\n",
       "    </tr>\n",
       "    <tr>\n",
       "      <th>18</th>\n",
       "      <td>362853</td>\n",
       "      <td>6442.0</td>\n",
       "    </tr>\n",
       "    <tr>\n",
       "      <th>19</th>\n",
       "      <td>102454</td>\n",
       "      <td>1851.0</td>\n",
       "    </tr>\n",
       "    <tr>\n",
       "      <th>20</th>\n",
       "      <td>131881</td>\n",
       "      <td>4715.0</td>\n",
       "    </tr>\n",
       "    <tr>\n",
       "      <th>21</th>\n",
       "      <td>172124</td>\n",
       "      <td>3179.0</td>\n",
       "    </tr>\n",
       "    <tr>\n",
       "      <th>22</th>\n",
       "      <td>298454</td>\n",
       "      <td>3092.0</td>\n",
       "    </tr>\n",
       "    <tr>\n",
       "      <th>23</th>\n",
       "      <td>33121</td>\n",
       "      <td>1382.0</td>\n",
       "    </tr>\n",
       "    <tr>\n",
       "      <th rowspan=\"13\" valign=\"top\">2</th>\n",
       "      <th>1</th>\n",
       "      <td>68197</td>\n",
       "      <td>313.0</td>\n",
       "    </tr>\n",
       "    <tr>\n",
       "      <th>2</th>\n",
       "      <td>33471</td>\n",
       "      <td>348.0</td>\n",
       "    </tr>\n",
       "    <tr>\n",
       "      <th>3</th>\n",
       "      <td>33121</td>\n",
       "      <td>396.0</td>\n",
       "    </tr>\n",
       "    <tr>\n",
       "      <th>7</th>\n",
       "      <td>293562</td>\n",
       "      <td>6711.0</td>\n",
       "    </tr>\n",
       "    <tr>\n",
       "      <th>8</th>\n",
       "      <td>451655</td>\n",
       "      <td>8602.0</td>\n",
       "    </tr>\n",
       "    <tr>\n",
       "      <th>9</th>\n",
       "      <td>270826</td>\n",
       "      <td>6321.0</td>\n",
       "    </tr>\n",
       "    <tr>\n",
       "      <th>10</th>\n",
       "      <td>227981</td>\n",
       "      <td>4552.0</td>\n",
       "    </tr>\n",
       "    <tr>\n",
       "      <th>11</th>\n",
       "      <td>66419</td>\n",
       "      <td>1455.0</td>\n",
       "    </tr>\n",
       "    <tr>\n",
       "      <th>12</th>\n",
       "      <td>358210</td>\n",
       "      <td>6352.0</td>\n",
       "    </tr>\n",
       "    <tr>\n",
       "      <th>13</th>\n",
       "      <td>66860</td>\n",
       "      <td>2093.0</td>\n",
       "    </tr>\n",
       "    <tr>\n",
       "      <th>14</th>\n",
       "      <td>168047</td>\n",
       "      <td>5528.0</td>\n",
       "    </tr>\n",
       "    <tr>\n",
       "      <th>15</th>\n",
       "      <td>134093</td>\n",
       "      <td>3393.0</td>\n",
       "    </tr>\n",
       "    <tr>\n",
       "      <th>16</th>\n",
       "      <td>136101</td>\n",
       "      <td>1950.0</td>\n",
       "    </tr>\n",
       "    <tr>\n",
       "      <th>...</th>\n",
       "      <th>...</th>\n",
       "      <td>...</td>\n",
       "      <td>...</td>\n",
       "    </tr>\n",
       "    <tr>\n",
       "      <th rowspan=\"11\" valign=\"top\">6</th>\n",
       "      <th>13</th>\n",
       "      <td>168078</td>\n",
       "      <td>4750.0</td>\n",
       "    </tr>\n",
       "    <tr>\n",
       "      <th>14</th>\n",
       "      <td>202786</td>\n",
       "      <td>8464.0</td>\n",
       "    </tr>\n",
       "    <tr>\n",
       "      <th>15</th>\n",
       "      <td>395609</td>\n",
       "      <td>8953.0</td>\n",
       "    </tr>\n",
       "    <tr>\n",
       "      <th>16</th>\n",
       "      <td>68197</td>\n",
       "      <td>1113.0</td>\n",
       "    </tr>\n",
       "    <tr>\n",
       "      <th>17</th>\n",
       "      <td>136302</td>\n",
       "      <td>3453.0</td>\n",
       "    </tr>\n",
       "    <tr>\n",
       "      <th>18</th>\n",
       "      <td>292907</td>\n",
       "      <td>7075.0</td>\n",
       "    </tr>\n",
       "    <tr>\n",
       "      <th>19</th>\n",
       "      <td>202791</td>\n",
       "      <td>4435.0</td>\n",
       "    </tr>\n",
       "    <tr>\n",
       "      <th>20</th>\n",
       "      <td>202630</td>\n",
       "      <td>6100.0</td>\n",
       "    </tr>\n",
       "    <tr>\n",
       "      <th>21</th>\n",
       "      <td>32775</td>\n",
       "      <td>1263.0</td>\n",
       "    </tr>\n",
       "    <tr>\n",
       "      <th>22</th>\n",
       "      <td>170304</td>\n",
       "      <td>8852.0</td>\n",
       "    </tr>\n",
       "    <tr>\n",
       "      <th>23</th>\n",
       "      <td>100711</td>\n",
       "      <td>1431.0</td>\n",
       "    </tr>\n",
       "    <tr>\n",
       "      <th rowspan=\"19\" valign=\"top\">7</th>\n",
       "      <th>0</th>\n",
       "      <td>98496</td>\n",
       "      <td>5188.0</td>\n",
       "    </tr>\n",
       "    <tr>\n",
       "      <th>1</th>\n",
       "      <td>66945</td>\n",
       "      <td>1423.0</td>\n",
       "    </tr>\n",
       "    <tr>\n",
       "      <th>2</th>\n",
       "      <td>133595</td>\n",
       "      <td>2291.0</td>\n",
       "    </tr>\n",
       "    <tr>\n",
       "      <th>3</th>\n",
       "      <td>158858</td>\n",
       "      <td>470.0</td>\n",
       "    </tr>\n",
       "    <tr>\n",
       "      <th>4</th>\n",
       "      <td>102425</td>\n",
       "      <td>2764.0</td>\n",
       "    </tr>\n",
       "    <tr>\n",
       "      <th>6</th>\n",
       "      <td>34027</td>\n",
       "      <td>198.0</td>\n",
       "    </tr>\n",
       "    <tr>\n",
       "      <th>8</th>\n",
       "      <td>101931</td>\n",
       "      <td>812.0</td>\n",
       "    </tr>\n",
       "    <tr>\n",
       "      <th>10</th>\n",
       "      <td>99839</td>\n",
       "      <td>1487.0</td>\n",
       "    </tr>\n",
       "    <tr>\n",
       "      <th>11</th>\n",
       "      <td>34257</td>\n",
       "      <td>516.0</td>\n",
       "    </tr>\n",
       "    <tr>\n",
       "      <th>12</th>\n",
       "      <td>101700</td>\n",
       "      <td>2378.0</td>\n",
       "    </tr>\n",
       "    <tr>\n",
       "      <th>13</th>\n",
       "      <td>32807</td>\n",
       "      <td>530.0</td>\n",
       "    </tr>\n",
       "    <tr>\n",
       "      <th>14</th>\n",
       "      <td>293563</td>\n",
       "      <td>4407.0</td>\n",
       "    </tr>\n",
       "    <tr>\n",
       "      <th>15</th>\n",
       "      <td>328558</td>\n",
       "      <td>3317.0</td>\n",
       "    </tr>\n",
       "    <tr>\n",
       "      <th>16</th>\n",
       "      <td>32807</td>\n",
       "      <td>614.0</td>\n",
       "    </tr>\n",
       "    <tr>\n",
       "      <th>17</th>\n",
       "      <td>417890</td>\n",
       "      <td>4202.0</td>\n",
       "    </tr>\n",
       "    <tr>\n",
       "      <th>18</th>\n",
       "      <td>99234</td>\n",
       "      <td>2873.0</td>\n",
       "    </tr>\n",
       "    <tr>\n",
       "      <th>19</th>\n",
       "      <td>191762</td>\n",
       "      <td>1481.0</td>\n",
       "    </tr>\n",
       "    <tr>\n",
       "      <th>20</th>\n",
       "      <td>68197</td>\n",
       "      <td>948.0</td>\n",
       "    </tr>\n",
       "    <tr>\n",
       "      <th>23</th>\n",
       "      <td>34654</td>\n",
       "      <td>1112.0</td>\n",
       "    </tr>\n",
       "  </tbody>\n",
       "</table>\n",
       "<p>139 rows × 2 columns</p>\n",
       "</div>"
      ],
      "text/plain": [
       "          SegmentID  loop_count\n",
       "day hour                       \n",
       "1   2         32807       207.0\n",
       "    6        192510      1492.0\n",
       "    8        106192      3367.0\n",
       "    9        167825      5473.0\n",
       "    10        67904       884.0\n",
       "    11       243552      7142.0\n",
       "    12        68049       752.0\n",
       "    13       201706      6537.0\n",
       "    14        68197      1031.0\n",
       "    15       158858       904.0\n",
       "    16       170358      2649.0\n",
       "    18       362853      6442.0\n",
       "    19       102454      1851.0\n",
       "    20       131881      4715.0\n",
       "    21       172124      3179.0\n",
       "    22       298454      3092.0\n",
       "    23        33121      1382.0\n",
       "2   1         68197       313.0\n",
       "    2         33471       348.0\n",
       "    3         33121       396.0\n",
       "    7        293562      6711.0\n",
       "    8        451655      8602.0\n",
       "    9        270826      6321.0\n",
       "    10       227981      4552.0\n",
       "    11        66419      1455.0\n",
       "    12       358210      6352.0\n",
       "    13        66860      2093.0\n",
       "    14       168047      5528.0\n",
       "    15       134093      3393.0\n",
       "    16       136101      1950.0\n",
       "...             ...         ...\n",
       "6   13       168078      4750.0\n",
       "    14       202786      8464.0\n",
       "    15       395609      8953.0\n",
       "    16        68197      1113.0\n",
       "    17       136302      3453.0\n",
       "    18       292907      7075.0\n",
       "    19       202791      4435.0\n",
       "    20       202630      6100.0\n",
       "    21        32775      1263.0\n",
       "    22       170304      8852.0\n",
       "    23       100711      1431.0\n",
       "7   0         98496      5188.0\n",
       "    1         66945      1423.0\n",
       "    2        133595      2291.0\n",
       "    3        158858       470.0\n",
       "    4        102425      2764.0\n",
       "    6         34027       198.0\n",
       "    8        101931       812.0\n",
       "    10        99839      1487.0\n",
       "    11        34257       516.0\n",
       "    12       101700      2378.0\n",
       "    13        32807       530.0\n",
       "    14       293563      4407.0\n",
       "    15       328558      3317.0\n",
       "    16        32807       614.0\n",
       "    17       417890      4202.0\n",
       "    18        99234      2873.0\n",
       "    19       191762      1481.0\n",
       "    20        68197       948.0\n",
       "    23        34654      1112.0\n",
       "\n",
       "[139 rows x 2 columns]"
      ]
     },
     "execution_count": 306,
     "metadata": {},
     "output_type": "execute_result"
    }
   ],
   "source": [
    "dfloop.groupby(['day','hour']).sum()"
   ]
  },
  {
   "cell_type": "code",
   "execution_count": null,
   "metadata": {},
   "outputs": [],
   "source": []
  }
 ],
 "metadata": {
  "kernelspec": {
   "display_name": "PUI2016_Python2",
   "language": "python",
   "name": "pui2016_python2"
  },
  "language_info": {
   "codemirror_mode": {
    "name": "ipython",
    "version": 2
   },
   "file_extension": ".py",
   "mimetype": "text/x-python",
   "name": "python",
   "nbconvert_exporter": "python",
   "pygments_lexer": "ipython2",
   "version": "2.7.12"
  }
 },
 "nbformat": 4,
 "nbformat_minor": 2
}
